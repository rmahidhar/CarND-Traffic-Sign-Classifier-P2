{
 "cells": [
  {
   "cell_type": "markdown",
   "metadata": {
    "deletable": true,
    "editable": true
   },
   "source": [
    "# Self-Driving Car Engineer Nanodegree\n",
    "\n",
    "## Deep Learning\n",
    "\n",
    "## Project: Build a Traffic Sign Recognition Classifier\n",
    "\n",
    "In this notebook, a template is provided for you to implement your functionality in stages which is required to successfully complete this project. If additional code is required that cannot be included in the notebook, be sure that the Python code is successfully imported and included in your submission, if necessary. Sections that begin with **'Implementation'** in the header indicate where you should begin your implementation for your project. Note that some sections of implementation are optional, and will be marked with **'Optional'** in the header.\n",
    "\n",
    "In addition to implementing code, there will be questions that you must answer which relate to the project and your implementation. Each section where you will answer a question is preceded by a **'Question'** header. Carefully read each question and provide thorough answers in the following text boxes that begin with **'Answer:'**. Your project submission will be evaluated based on your answers to each of the questions and the implementation you provide.\n",
    "\n",
    ">**Note:** Code and Markdown cells can be executed using the **Shift + Enter** keyboard shortcut. In addition, Markdown cells can be edited by typically double-clicking the cell to enter edit mode."
   ]
  },
  {
   "cell_type": "markdown",
   "metadata": {
    "deletable": true,
    "editable": true
   },
   "source": [
    "---\n",
    "## Step 0: Load The Data"
   ]
  },
  {
   "cell_type": "code",
   "execution_count": 1,
   "metadata": {
    "collapsed": false,
    "deletable": true,
    "editable": true
   },
   "outputs": [],
   "source": [
    "# Load pickled data\n",
    "import pickle\n",
    "import numpy as np\n",
    "\n",
    "# TODO: Fill this in based on where you saved the training and testing data\n",
    "\n",
    "training_file = 'train.p'\n",
    "testing_file = 'test.p'\n",
    "\n",
    "def load_dataset(training_file, testing_file):\n",
    "    with open(training_file, mode='rb') as f:\n",
    "        train = pickle.load(f)\n",
    "    with open(testing_file, mode='rb') as f:\n",
    "        test = pickle.load(f)\n",
    "    \n",
    "    X_train, y_train = train['features'], train['labels']\n",
    "    X_test, y_test = test['features'], test['labels']\n",
    "    C_train, C_test = train['coords'], test['coords']\n",
    "    return X_train, y_train, X_test, y_test, C_train, C_test\n",
    "\n",
    "X_train, y_train, X_test, y_test, C_train, C_test = load_dataset(training_file, testing_file)"
   ]
  },
  {
   "cell_type": "markdown",
   "metadata": {
    "deletable": true,
    "editable": true
   },
   "source": [
    "---\n",
    "\n",
    "## Step 1: Dataset Summary & Exploration\n",
    "\n",
    "The pickled data is a dictionary with 4 key/value pairs:\n",
    "\n",
    "- `'features'` is a 4D array containing raw pixel data of the traffic sign images, (num examples, width, height, channels).\n",
    "- `'labels'` is a 1D array containing the label/class id of the traffic sign. The file `signnames.csv` contains id -> name mappings for each id.\n",
    "- `'sizes'` is a list containing tuples, (width, height) representing the the original width and height the image.\n",
    "- `'coords'` is a list containing tuples, (x1, y1, x2, y2) representing coordinates of a bounding box around the sign in the image. **THESE COORDINATES ASSUME THE ORIGINAL IMAGE. THE PICKLED DATA CONTAINS RESIZED VERSIONS (32 by 32) OF THESE IMAGES**\n",
    "\n",
    "Complete the basic data summary below."
   ]
  },
  {
   "cell_type": "code",
   "execution_count": 2,
   "metadata": {
    "collapsed": false,
    "deletable": true,
    "editable": true
   },
   "outputs": [],
   "source": [
    "### Replace each question mark with the appropriate value.\n",
    "\n",
    "# TODO: Number of training examples\n",
    "n_train = len(X_train)\n",
    "\n",
    "# TODO: Number of testing examples.\n",
    "n_test = len(X_test)\n",
    "\n",
    "# TODO: What's the shape of an traffic sign image?\n",
    "image_shape = X_train[0].shape\n",
    "\n",
    "# TODO: How many unique classes/labels there are in the dataset.\n",
    "n_classes = len(np.unique(y_train))"
   ]
  },
  {
   "cell_type": "markdown",
   "metadata": {
    "deletable": true,
    "editable": true
   },
   "source": [
    "Visualize the German Traffic Signs Dataset using the pickled file(s). This is open ended, suggestions include: plotting traffic sign images, plotting the count of each sign, etc.\n",
    "\n",
    "The [Matplotlib](http://matplotlib.org/) [examples](http://matplotlib.org/examples/index.html) and [gallery](http://matplotlib.org/gallery.html) pages are a great resource for doing visualizations in Python.\n",
    "\n",
    "**NOTE:** It's recommended you start with something simple first. If you wish to do more, come back to it after you've completed the rest of the sections."
   ]
  },
  {
   "cell_type": "code",
   "execution_count": 3,
   "metadata": {
    "collapsed": false,
    "deletable": true,
    "editable": true
   },
   "outputs": [
    {
     "data": {
      "text/plain": [
       "'\\nsignames_file = \\'signnames.csv\\'\\ndef read_signames(signames_file):\\n    sign_names = []\\n    with open(signames_file) as f:\\n        reader = csv.DictReader(f)\\n        sign_names = [line[\\'SignName\\'] for line in reader]\\n    return sign_names\\n\\nsign_names = read_signames(signames_file)\\n\\nindex = random.randint(0, len(X_train))\\nimage = X_train[index].squeeze()\\n\\nplt.figure(figsize=(1,1))\\nplt.imshow(image, cmap=\\'gray\\')\\nprint(y_train[index])\\n\\nhist, bins = np.histogram(y_train, bins=n_classes)\\nplt.figure()\\nplt.hist(y_train, bins=n_classes, color=\\'#00ffCC\\')\\nplt.axis([0, 43, 0, 2500])\\nplt.show()\\n\\n# plotting the count of each sign\\n\\ny_pos = range(n_classes)\\nlabel_list = y_train.tolist()\\nsign_type = [label_list.count(y) for y in range(n_classes)]\\n\\nplt.bar(y_pos, sign_type, width=0.8, align=\\'center\\')\\nplt.ylabel(\\'Sample Count\\')\\nplt.xlabel(\\'Sample Class\\')\\nplt.show()\\n\\nfig, axs = plt.subplots(2,5, figsize=(15, 6))\\nfig.subplots_adjust(hspace = .2, wspace=.001)\\naxs = axs.ravel()\\nfor i in range(10):\\n    index = random.randint(0, len(X_train))\\n    image = X_train[index]\\n    axs[i].axis(\\'off\\')\\n    axs[i].imshow(image)\\n    axs[i].set_title(y_train[index])\\n    \\nnum_x = 5\\nnum_y = 5\\nfig, ax = plt.subplots(num_y,num_x)\\nfig.set_size_inches(10,15)\\nfor i in range(num_x*num_y):\\n    n = random.random()*n_train\\n    ax[int(i/num_x)][i%num_x].imshow(X_train[n])\\n    coords = C_train[n]\\n    rect = patches.Rectangle((coords[0],coords[1]),coords[2]-coords[0],coords[3]-coords[1],edgecolor=\\'#00ff00\\',facecolor=\\'none\\')\\n    ax[int(i/num_x)][i%num_x].add_patch(rect)\\n    ax[int(i/num_x)][i%num_x].set_title(sign_names[y_train[n]], fontsize=8)\\n\\nplt.show()\\n\\n# show image of N random data points\\ncount = 10\\nfig, axs = plt.subplots(count, 3, figsize=(count, count*3))\\nfig.subplots_adjust(hspace = .2, wspace=.001)\\naxs = axs.ravel()\\nfor i in range(0, count*3, 3):\\n    index = random.randint(0, len(X_train))\\n    image = X_train[index]\\n    \\n    axs[i].axis(\\'off\\')\\n    axs[i].imshow(image)\\n    axs[i].set_title(sign_names[y_train[index]])\\n\\n    bw = cv2.cvtColor(image, cv2.COLOR_RGB2GRAY)\\n    axs[i+1].axis(\\'off\\')\\n    axs[i+1].imshow(bw, cmap=\\'gray\\')\\n    axs[i+1].set_title(\"B/W\")\\n\\n    equ = cv2.equalizeHist(bw)\\n    axs[i+2].axis(\\'off\\')\\n    axs[i+2].imshow(equ, cmap=\\'gray\\')\\n    axs[i+2].set_title(\"Histogram Equalized\")\\n'"
      ]
     },
     "execution_count": 3,
     "metadata": {},
     "output_type": "execute_result"
    }
   ],
   "source": [
    "### Data exploration visualization goes here.\n",
    "### Feel free to use as many code cells as needed.\n",
    "import random\n",
    "import numpy as np\n",
    "import matplotlib.pyplot as plt\n",
    "import matplotlib.patches as patches\n",
    "import csv\n",
    "import cv2\n",
    "# Visualizations will be shown in the notebook.\n",
    "%matplotlib inline\n",
    "\n",
    "\"\"\"\n",
    "signames_file = 'signnames.csv'\n",
    "def read_signames(signames_file):\n",
    "    sign_names = []\n",
    "    with open(signames_file) as f:\n",
    "        reader = csv.DictReader(f)\n",
    "        sign_names = [line['SignName'] for line in reader]\n",
    "    return sign_names\n",
    "\n",
    "sign_names = read_signames(signames_file)\n",
    "\n",
    "index = random.randint(0, len(X_train))\n",
    "image = X_train[index].squeeze()\n",
    "\n",
    "plt.figure(figsize=(1,1))\n",
    "plt.imshow(image, cmap='gray')\n",
    "print(y_train[index])\n",
    "\n",
    "hist, bins = np.histogram(y_train, bins=n_classes)\n",
    "plt.figure()\n",
    "plt.hist(y_train, bins=n_classes, color='#00ffCC')\n",
    "plt.axis([0, 43, 0, 2500])\n",
    "plt.show()\n",
    "\n",
    "# plotting the count of each sign\n",
    "\n",
    "y_pos = range(n_classes)\n",
    "label_list = y_train.tolist()\n",
    "sign_type = [label_list.count(y) for y in range(n_classes)]\n",
    "\n",
    "plt.bar(y_pos, sign_type, width=0.8, align='center')\n",
    "plt.ylabel('Sample Count')\n",
    "plt.xlabel('Sample Class')\n",
    "plt.show()\n",
    "\n",
    "fig, axs = plt.subplots(2,5, figsize=(15, 6))\n",
    "fig.subplots_adjust(hspace = .2, wspace=.001)\n",
    "axs = axs.ravel()\n",
    "for i in range(10):\n",
    "    index = random.randint(0, len(X_train))\n",
    "    image = X_train[index]\n",
    "    axs[i].axis('off')\n",
    "    axs[i].imshow(image)\n",
    "    axs[i].set_title(y_train[index])\n",
    "    \n",
    "num_x = 5\n",
    "num_y = 5\n",
    "fig, ax = plt.subplots(num_y,num_x)\n",
    "fig.set_size_inches(10,15)\n",
    "for i in range(num_x*num_y):\n",
    "    n = random.random()*n_train\n",
    "    ax[int(i/num_x)][i%num_x].imshow(X_train[n])\n",
    "    coords = C_train[n]\n",
    "    rect = patches.Rectangle((coords[0],coords[1]),coords[2]-coords[0],coords[3]-coords[1],edgecolor='#00ff00',facecolor='none')\n",
    "    ax[int(i/num_x)][i%num_x].add_patch(rect)\n",
    "    ax[int(i/num_x)][i%num_x].set_title(sign_names[y_train[n]], fontsize=8)\n",
    "\n",
    "plt.show()\n",
    "\n",
    "# show image of N random data points\n",
    "count = 10\n",
    "fig, axs = plt.subplots(count, 3, figsize=(count, count*3))\n",
    "fig.subplots_adjust(hspace = .2, wspace=.001)\n",
    "axs = axs.ravel()\n",
    "for i in range(0, count*3, 3):\n",
    "    index = random.randint(0, len(X_train))\n",
    "    image = X_train[index]\n",
    "    \n",
    "    axs[i].axis('off')\n",
    "    axs[i].imshow(image)\n",
    "    axs[i].set_title(sign_names[y_train[index]])\n",
    "\n",
    "    bw = cv2.cvtColor(image, cv2.COLOR_RGB2GRAY)\n",
    "    axs[i+1].axis('off')\n",
    "    axs[i+1].imshow(bw, cmap='gray')\n",
    "    axs[i+1].set_title(\"B/W\")\n",
    "\n",
    "    equ = cv2.equalizeHist(bw)\n",
    "    axs[i+2].axis('off')\n",
    "    axs[i+2].imshow(equ, cmap='gray')\n",
    "    axs[i+2].set_title(\"Histogram Equalized\")\n",
    "\"\"\"    "
   ]
  },
  {
   "cell_type": "markdown",
   "metadata": {
    "deletable": true,
    "editable": true
   },
   "source": [
    "----\n",
    "\n",
    "## Step 2: Design and Test a Model Architecture\n",
    "\n",
    "Design and implement a deep learning model that learns to recognize traffic signs. Train and test your model on the [German Traffic Sign Dataset](http://benchmark.ini.rub.de/?section=gtsrb&subsection=dataset).\n",
    "\n",
    "There are various aspects to consider when thinking about this problem:\n",
    "\n",
    "- Neural network architecture\n",
    "- Play around preprocessing techniques (normalization, rgb to grayscale, etc)\n",
    "- Number of examples per label (some have more than others).\n",
    "- Generate fake data.\n",
    "\n",
    "Here is an example of a [published baseline model on this problem](http://yann.lecun.com/exdb/publis/pdf/sermanet-ijcnn-11.pdf). It's not required to be familiar with the approach used in the paper but, it's good practice to try to read papers like these.\n",
    "\n",
    "**NOTE:** The LeNet-5 implementation shown in the [classroom](https://classroom.udacity.com/nanodegrees/nd013/parts/fbf77062-5703-404e-b60c-95b78b2f3f9e/modules/6df7ae49-c61c-4bb2-a23e-6527e69209ec/lessons/601ae704-1035-4287-8b11-e2c2716217ad/concepts/d4aca031-508f-4e0b-b493-e7b706120f81) at the end of the CNN lesson is a solid starting point. You'll have to change the number of classes and possibly the preprocessing, but aside from that it's plug and play!"
   ]
  },
  {
   "cell_type": "markdown",
   "metadata": {
    "deletable": true,
    "editable": true
   },
   "source": [
    "### Implementation\n",
    "\n",
    "Use the code cell (or multiple code cells, if necessary) to implement the first step of your project. Once you have completed your implementation and are satisfied with the results, be sure to thoroughly answer the questions that follow."
   ]
  },
  {
   "cell_type": "code",
   "execution_count": 4,
   "metadata": {
    "collapsed": false,
    "deletable": true,
    "editable": true
   },
   "outputs": [
    {
     "data": {
      "text/plain": [
       "\"\\ndef augment_brightness_images(image):\\n    image1 = cv2.cvtColor(image,cv2.COLOR_RGB2HSV)\\n    random_bright = .25+np.random.uniform()\\n    #print(random_bright)\\n    image1[:,:,2] = image1[:,:,2]*random_bright\\n    image1 = cv2.cvtColor(image1,cv2.COLOR_HSV2RGB)\\n    return image1\\n\\ndef create_variant(image):\\n    if (random.choice([True, False])):\\n        image = scipy.ndimage.interpolation.shift(image, [random.randrange(-5, 5), random.randrange(-5, 5), 0])\\n    if (random.choice([True, False])):\\n        image = scipy.ndimage.interpolation.rotate(image, random.randrange(-15, 15), reshape=False)\\n    return image\\n\\n# convert to B/W\\nX_train_bw = np.array([cv2.cvtColor(image, cv2.COLOR_RGB2GRAY) for image in X_train])\\nX_test_bw = np.array([cv2.cvtColor(image, cv2.COLOR_RGB2GRAY) for image in X_test])\\n\\n# apply histogram equalization\\nX_train_hst_eq = np.array([cv2.equalizeHist(image) for image in X_train_bw])\\nX_test_hst_eq = np.array([cv2.equalizeHist(image) for image in X_test_bw])\\n\\n# reshape for conv layer\\n#X_train = X_train_hst_eq[..., np.newaxis]\\n#X_test = X_test_hst_eq[..., np.newaxis]\\n#print('Before shaping:', X_train_hst_eq.shape)\\n#print('After shaping:', X_train.shape)\\n\\n# normalize range\\n#X_train_normalized = (X_train_reshaped - np.mean(X_train_reshaped)) / 128.0\\n#X_test_normalized = (X_test_reshaped - np.mean(X_test_reshaped)) / 128.0\\n#print('Mean before normalizing:', np.mean(X_train_reshaped), np.mean(X_test_reshaped))\\n#print('Mean after normalizing:', np.mean(X_train_normalized), np.mean(X_test_normalized))\\n\""
      ]
     },
     "execution_count": 4,
     "metadata": {},
     "output_type": "execute_result"
    }
   ],
   "source": [
    "### Preprocess the data here.\n",
    "### Feel free to use as many code cells as needed.\n",
    "from sklearn.utils import shuffle\n",
    "import scipy.ndimage\n",
    "import numpy as np\n",
    "\"\"\"\n",
    "def augment_brightness_images(image):\n",
    "    image1 = cv2.cvtColor(image,cv2.COLOR_RGB2HSV)\n",
    "    random_bright = .25+np.random.uniform()\n",
    "    #print(random_bright)\n",
    "    image1[:,:,2] = image1[:,:,2]*random_bright\n",
    "    image1 = cv2.cvtColor(image1,cv2.COLOR_HSV2RGB)\n",
    "    return image1\n",
    "\n",
    "def create_variant(image):\n",
    "    if (random.choice([True, False])):\n",
    "        image = scipy.ndimage.interpolation.shift(image, [random.randrange(-5, 5), random.randrange(-5, 5), 0])\n",
    "    if (random.choice([True, False])):\n",
    "        image = scipy.ndimage.interpolation.rotate(image, random.randrange(-15, 15), reshape=False)\n",
    "    return image\n",
    "\n",
    "# convert to B/W\n",
    "X_train_bw = np.array([cv2.cvtColor(image, cv2.COLOR_RGB2GRAY) for image in X_train])\n",
    "X_test_bw = np.array([cv2.cvtColor(image, cv2.COLOR_RGB2GRAY) for image in X_test])\n",
    "\n",
    "# apply histogram equalization\n",
    "X_train_hst_eq = np.array([cv2.equalizeHist(image) for image in X_train_bw])\n",
    "X_test_hst_eq = np.array([cv2.equalizeHist(image) for image in X_test_bw])\n",
    "\n",
    "# reshape for conv layer\n",
    "#X_train = X_train_hst_eq[..., np.newaxis]\n",
    "#X_test = X_test_hst_eq[..., np.newaxis]\n",
    "#print('Before shaping:', X_train_hst_eq.shape)\n",
    "#print('After shaping:', X_train.shape)\n",
    "\n",
    "# normalize range\n",
    "#X_train_normalized = (X_train_reshaped - np.mean(X_train_reshaped)) / 128.0\n",
    "#X_test_normalized = (X_test_reshaped - np.mean(X_test_reshaped)) / 128.0\n",
    "#print('Mean before normalizing:', np.mean(X_train_reshaped), np.mean(X_test_reshaped))\n",
    "#print('Mean after normalizing:', np.mean(X_train_normalized), np.mean(X_test_normalized))\n",
    "\"\"\""
   ]
  },
  {
   "cell_type": "markdown",
   "metadata": {
    "deletable": true,
    "editable": true
   },
   "source": [
    "### Question 1 \n",
    "\n",
    "_Describe how you preprocessed the data. Why did you choose that technique?_"
   ]
  },
  {
   "cell_type": "markdown",
   "metadata": {
    "deletable": true,
    "editable": true
   },
   "source": [
    "**Answer:**"
   ]
  },
  {
   "cell_type": "code",
   "execution_count": 3,
   "metadata": {
    "collapsed": false,
    "deletable": true,
    "editable": true
   },
   "outputs": [
    {
     "name": "stdout",
     "output_type": "stream",
     "text": [
      "Number of training examples = 39209\n",
      "Number of validation examples = 7842\n",
      "Number of testing examples = 12630\n",
      "Image data shape = (31367, 32, 32, 3)\n",
      "Number of classes = 43\n"
     ]
    }
   ],
   "source": [
    "from sklearn.model_selection import train_test_split\n",
    "from sklearn.utils import shuffle\n",
    "\n",
    "### Generate additional data (OPTIONAL!)\n",
    "REQ_NUM_SAMPLES = 1500\n",
    "generated_features = []\n",
    "generated_labels = []\n",
    "\"\"\"\"\n",
    "for class_index in range(len(sign_type)):\n",
    "    class_sample_count = sign_type[class_index]\n",
    "    augment_multiple = round(REQ_NUM_SAMPLES / class_sample_count)\n",
    "    print(class_index, class_sample_count, augment_multiple)\n",
    "\n",
    "    if augment_multiple <= 1:\n",
    "        continue\n",
    "    \n",
    "    for test_feature, test_label in zip(X_train_normalized, y_train):\n",
    "        if class_index == test_label:\n",
    "            for augment_iter in range(augment_multiple):\n",
    "                generated_features.append(create_variant(test_feature))\n",
    "                generated_labels.append(test_label)\n",
    "\"\"\"\n",
    "# append generated data to original data\n",
    "#X_train_augmented = np.append(np.array(X_train_normalized), np.array(generated_features), axis=0)\n",
    "#y_train_augmented = np.append(np.array(y_train), np.array(generated_labels), axis=0)\n",
    "X_train, y_train = shuffle(X_train, y_train)\n",
    "\n",
    "#y_pos = range(n_classes)\n",
    "#label_list = y_train_augmented.tolist()\n",
    "#sign_type = [label_list.count(y) for y in range(n_classes)]\n",
    "\n",
    "#plt.bar(y_pos, sign_type, width=0.8, align='center')\n",
    "#plt.ylabel('Sample Count')\n",
    "#plt.xlabel('Sample Class')\n",
    "#plt.show()\n",
    "\n",
    "### and split the data into training/validation/testing sets here.\n",
    "### Feel free to use as many code cells as needed.\n",
    "# split the training set into training set and validation set\n",
    "X_train, X_validation, y_train, y_validation = train_test_split(X_train, y_train, test_size=0.20, random_state=7)\n",
    "\n",
    "                                                                # validation examples\n",
    "n_validation = len(X_validation)\n",
    "\n",
    "print(\"Number of training examples =\", n_train)\n",
    "print(\"Number of validation examples =\", n_validation)\n",
    "print(\"Number of testing examples =\", n_test)\n",
    "print(\"Image data shape =\", X_train.shape)\n",
    "print(\"Number of classes =\", n_classes)\n",
    "                                                                \n",
    "assert(len(X_train) == len(y_train))\n",
    "assert(len(X_validation) == len(y_validation))\n",
    "assert(len(X_test) == len(y_test))                                                                "
   ]
  },
  {
   "cell_type": "markdown",
   "metadata": {
    "deletable": true,
    "editable": true
   },
   "source": [
    "### Question 2\n",
    "\n",
    "_Describe how you set up the training, validation and testing data for your model. **Optional**: If you generated additional data, how did you generate the data? Why did you generate the data? What are the differences in the new dataset (with generated data) from the original dataset?_"
   ]
  },
  {
   "cell_type": "markdown",
   "metadata": {
    "deletable": true,
    "editable": true
   },
   "source": [
    "**Answer:**"
   ]
  },
  {
   "cell_type": "code",
   "execution_count": 5,
   "metadata": {
    "collapsed": true,
    "deletable": true,
    "editable": true
   },
   "outputs": [],
   "source": [
    "### Define your architecture here.\n",
    "### Feel free to use as many code cells as needed.\n",
    "import tensorflow as tf\n",
    "\n",
    "EPOCHS = 10\n",
    "BATCH_SIZE = 128"
   ]
  },
  {
   "cell_type": "markdown",
   "metadata": {
    "deletable": true,
    "editable": true
   },
   "source": [
    "### Question 3\n",
    "\n",
    "_What does your final architecture look like? (Type of model, layers, sizes, connectivity, etc.)  For reference on how to build a deep neural network using TensorFlow, see [Deep Neural Network in TensorFlow\n",
    "](https://classroom.udacity.com/nanodegrees/nd013/parts/fbf77062-5703-404e-b60c-95b78b2f3f9e/modules/6df7ae49-c61c-4bb2-a23e-6527e69209ec/lessons/b516a270-8600-4f93-a0a3-20dfeabe5da6/concepts/83a3a2a2-a9bd-4b7b-95b0-eb924ab14432) from the classroom._\n"
   ]
  },
  {
   "cell_type": "markdown",
   "metadata": {
    "deletable": true,
    "editable": true
   },
   "source": [
    "**Answer:**"
   ]
  },
  {
   "cell_type": "code",
   "execution_count": 4,
   "metadata": {
    "collapsed": false,
    "deletable": true,
    "editable": true
   },
   "outputs": [
    {
     "name": "stdout",
     "output_type": "stream",
     "text": [
      "Training...\n",
      "\n",
      "EPOCH 1 ...\n",
      "Validation Accuracy = 0.281\n",
      "\n",
      "EPOCH 2 ...\n",
      "Validation Accuracy = 0.528\n",
      "\n",
      "EPOCH 3 ...\n",
      "Validation Accuracy = 0.677\n",
      "\n",
      "EPOCH 4 ...\n",
      "Validation Accuracy = 0.748\n",
      "\n",
      "EPOCH 5 ...\n",
      "Validation Accuracy = 0.810\n",
      "\n",
      "EPOCH 6 ...\n",
      "Validation Accuracy = 0.840\n",
      "\n",
      "EPOCH 7 ...\n",
      "Validation Accuracy = 0.867\n",
      "\n",
      "EPOCH 8 ...\n",
      "Validation Accuracy = 0.884\n",
      "\n",
      "EPOCH 9 ...\n",
      "Validation Accuracy = 0.896\n",
      "\n",
      "EPOCH 10 ...\n",
      "Validation Accuracy = 0.908\n",
      "\n",
      "EPOCH 11 ...\n",
      "Validation Accuracy = 0.903\n",
      "\n",
      "EPOCH 12 ...\n",
      "Validation Accuracy = 0.919\n",
      "\n",
      "EPOCH 13 ...\n",
      "Validation Accuracy = 0.925\n",
      "\n",
      "EPOCH 14 ...\n",
      "Validation Accuracy = 0.930\n",
      "\n",
      "EPOCH 15 ...\n",
      "Validation Accuracy = 0.933\n",
      "\n",
      "EPOCH 16 ...\n",
      "Validation Accuracy = 0.935\n",
      "\n",
      "EPOCH 17 ...\n",
      "Validation Accuracy = 0.932\n",
      "\n",
      "EPOCH 18 ...\n",
      "Validation Accuracy = 0.939\n",
      "\n",
      "EPOCH 19 ...\n",
      "Validation Accuracy = 0.942\n",
      "\n",
      "EPOCH 20 ...\n",
      "Validation Accuracy = 0.947\n",
      "\n",
      "EPOCH 21 ...\n",
      "Validation Accuracy = 0.944\n",
      "\n",
      "EPOCH 22 ...\n",
      "Validation Accuracy = 0.950\n",
      "\n",
      "EPOCH 23 ...\n",
      "Validation Accuracy = 0.955\n",
      "\n",
      "EPOCH 24 ...\n",
      "Validation Accuracy = 0.946\n",
      "\n",
      "EPOCH 25 ...\n",
      "Validation Accuracy = 0.955\n",
      "\n",
      "EPOCH 26 ...\n",
      "Validation Accuracy = 0.954\n",
      "\n",
      "EPOCH 27 ...\n",
      "Validation Accuracy = 0.954\n",
      "\n",
      "EPOCH 28 ...\n",
      "Validation Accuracy = 0.953\n",
      "\n",
      "EPOCH 29 ...\n",
      "Validation Accuracy = 0.959\n",
      "\n",
      "EPOCH 30 ...\n",
      "Validation Accuracy = 0.954\n",
      "\n",
      "Model saved\n"
     ]
    }
   ],
   "source": [
    "import tensorflow as tf\n",
    "from tensorflow.contrib.layers import flatten\n",
    "\n",
    "EPOCHS = 30\n",
    "BATCH_SIZE = 256\n",
    "\n",
    "tf.set_random_seed(0.0)\n",
    "# variable learning rate\n",
    "lr = tf.placeholder(tf.float32)\n",
    "# test flag for batch norm\n",
    "tst = tf.placeholder(tf.bool)\n",
    "iter = tf.placeholder(tf.int32)\n",
    "# dropout probability\n",
    "pkeep = tf.placeholder(tf.float32)\n",
    "\n",
    "\"\"\"\n",
    "class Layer(object):\n",
    "    def __init__(self, \n",
    "                 input_channels = None, \n",
    "                 krows=None, \n",
    "                 kcols=None, \n",
    "                 output_channels = None,\n",
    "                 strides=None):\n",
    "        self.input_channels = input_channels\n",
    "        self.krows = krows\n",
    "        self.kcols = kcols\n",
    "        self.output_channels = output_channels\n",
    "        self.strides = [1, strides, strides, 1]\n",
    "    \n",
    "class Conv2d(Layer):\n",
    "    def __init__(self, \n",
    "                 output_channels, \n",
    "                 nb_rows, \n",
    "                 nb_cols,\n",
    "                 strides=1,\n",
    "                 input_channels = None\n",
    "                 input_shape = None):\n",
    "        if input_shape:\n",
    "            Layer.__init__(self, \n",
    "                           input_channels = input_shape[2], \n",
    "                           krows = krows,\n",
    "                           kcols = kcols,\n",
    "                           output_channels = output_channels,\n",
    "                           strides = strides)\n",
    "        elif input_channels:\n",
    "            Layer.__init__(self, \n",
    "                           input_channels = input_channels, \n",
    "                           krows = krows,\n",
    "                           kcols = kcols,\n",
    "                           output_channels = output_channels,\n",
    "                           strides = strides)\n",
    "        else:\n",
    "            raise ValueError(\"both input_channels and input_shape can't be None\")\n",
    "            \n",
    "        #self.B = tf.Variable(tf.constant(0.1, tf.float32, [features]))\n",
    "        self.Y = None\n",
    "        if input_shape:\n",
    "            X = tf.placeholder(tf.float32, (None,) + input_shape)\n",
    "            self.W = tf.Variable(tf.truncated_normal(shape = input_shape + output_channels, \n",
    "                                                     mean = 0, \n",
    "                                                     stddev = 0.1))\n",
    "            self.B = tf.Variable(tf.zeros(output_channels))            \n",
    "            self.Y = tf.nn.conv2d(X, self.W, strides=self.strides, padding='VALID') + self.B\n",
    "            self.Y = self.activation(self.Y)\n",
    "\n",
    "    def Y(self, X=None, input_channels=None):\n",
    "        if self.Y:\n",
    "            pass\n",
    "        elif X and input_channels:\n",
    "            self.X = X\n",
    "            self.input_channels = input_channels\n",
    "            self.W = tf.Variable(tf.truncated_normal(shape = (krows, kcols, input_channels, output_channels), \n",
    "                                                     mean = 0, \n",
    "                                                     stddev = 0.1))\n",
    "            self.B = tf.Variable(tf.zeros(output_channels))\n",
    "            self.Y = tf.nn.conv2d(X, self.W, strides=self.strides, padding='VALID') + self.B\n",
    "            self.Y = self.activation(self.Y)            \n",
    "        return self.Y\n",
    "    \n",
    "    def layer_type(self):\n",
    "        \"conv\"\n",
    "        \n",
    "class MaxPool(object):\n",
    "    def __init__(self,\n",
    "                 pool_size = pool_size, \n",
    "                 strides = strides):\n",
    "        Layer.__init__(self, krows=pool_size[0], kcols=pool_size[1], strides=strides)\n",
    "        self.Y = None\n",
    "        \n",
    "    def Y(self, X=None):\n",
    "        if self.Y:\n",
    "            pass\n",
    "        elif X:\n",
    "            self.X = X\n",
    "            self.Y = tf.nn.max_pool(X, \n",
    "                                    ksize=[1, self.krows, self.kcols, 1] \n",
    "                                    strides=self.strides, \n",
    "                                    padding='VALID')        \n",
    "        return self.Y\n",
    "    \n",
    "    def layer_type(self):\n",
    "        return \"pool\"\n",
    "\n",
    "class Flatten(Layer):\n",
    "    def __init__(self):\n",
    "        Layer.__init__(self)\n",
    "        self.Y = None\n",
    "    \n",
    "    def Y(self, X=None)\n",
    "        if self.Y:\n",
    "            pass\n",
    "        elif X:\n",
    "            self.X = X\n",
    "            self.Y = flatten(X)\n",
    "        return self.Y\n",
    "    \n",
    "    def layer_type(self):\n",
    "        return \"flatten\"\n",
    "    \n",
    "class FC(layer):\n",
    "    def __init__(self, \n",
    "                 in_dim = in_dim, \n",
    "                 out_dim = out_dim,\n",
    "                 activation = tf.nn.relu,\n",
    "                 mean = 0,\n",
    "                 stddev = 0.1\n",
    "                 pkeep = None):\n",
    "        self.input = x\n",
    "        self.in_dim = in_dim\n",
    "        self.out_dim = out_dim\n",
    "        self.activation = activation\n",
    "        self.pkeep = pkeep\n",
    "        self.W = tf.Variable(tf.truncated_normal(shape=(in_dim, out_dim), \n",
    "                                                 mean = mean, \n",
    "                                                 stddev = stddev))\n",
    "        self.B = tf.Variable(tf.zeros(features))\n",
    "        self.output = tf.matmul(self.X, self.W) + self.B\n",
    "        self.output = self.activation(Y)\n",
    "    \n",
    "    def Y(self, X=None, ):\n",
    "        self.W = tf.Variable(tf.truncated_normal(shape=(in_dim, out_dim), \n",
    "                                                 mean = mean, \n",
    "                                                 stddev = stddev))\n",
    "        self.B = tf.Variable(tf.zeros(features))\n",
    "        self.output = tf.matmul(self.X, self.W) + self.B\n",
    "        self.output = self.activation(Y)\n",
    "        return self.Y\n",
    "    \n",
    "    def layer_type(self):\n",
    "        return \"fc\"\n",
    "        \n",
    "class ConvNetModel(object):\n",
    "    def __init__(self, \n",
    "                 model = model,\n",
    "                 train = train, \n",
    "                 validation = validation, \n",
    "                 test = test):\n",
    "        self._train = train\n",
    "        self._validation = validation\n",
    "        self._test = test\n",
    "        self._last_layer = None\n",
    "        self._flatten_dim = None\n",
    "    \n",
    "    def add(self, layer):\n",
    "        if (self._last_layer):\n",
    "            if self._last_layer.get_type() == 'conv':\n",
    "                if self.layer.get_type() == 'conv':\n",
    "                    Y = self.layer.Y(X=self._last_layer.Y(), \n",
    "                                     input_channels=self._last_layer.output_channels)\n",
    "                elif self.layer.get_type() == 'pool':\n",
    "                    Y = self.layer.Y(X=self._last_layer.Y())\n",
    "                    self.layer.input_channels = self._last_layer.output_channels\n",
    "                    self.layer.output_channels = self._last_layer.output_channels\n",
    "                    self.krows = self._last_layer.krows\n",
    "                    self.kcols = self._last_layer.kcols                    \n",
    "                elif self.layer.get_type() == 'flatten':\n",
    "                    self._flatten_dim = self._last_layer.krows * self._last_layer.kcols * self._last_layer.output_channels \n",
    "                else:\n",
    "                    raise ValueError(\"invalild layer type \" + self.layer.get_type())\n",
    "            elif self._last_layer.get_type() == 'pool':\n",
    "                    if self.layer.get_type() == 'conv':\n",
    "                        Y = self.layer.Y(X=self._last_layer.Y(), \n",
    "                                         input_channels=self._last_layer.output_channels)\n",
    "                     \n",
    "        self._last_layer = self.layer\n",
    "    \n",
    "    def _get_last_layer_Y(self):\n",
    "        if (self._last_layer):\n",
    "            return self._last_layer.Y()\n",
    "        pass\n",
    "    \n",
    "    def _get_last_layer_channels(self):\n",
    "        if (self._last_layer):\n",
    "            return self._last_layer.get_output_channels()\n",
    "        return None\n",
    "            \n",
    "                    \n",
    "model = ConvNetModel()\n",
    "model.add(Conv2d(6, 5, 5, input_shape = (32, 32, 1), strides=1))\n",
    "model.add(MaxPool(pool_size=(2,2), strides=2))\n",
    "model.add(Conv2d(16, 5, 5))\n",
    "model.add(MaxPool(ksize=[1,2,2,1], strides=2))\n",
    "model.add(flatten())\n",
    "model.add(FC(in_dim = 400, out_dim = 120))\n",
    "model.add(FC(y, in_dim = 120, out_dim = 84))\n",
    "model.add(FC(y, in_dim = 84, out_dim = 43))\n",
    "\"\"\"\n",
    "\n",
    "def LeNet(x):    \n",
    "    # Arguments used for tf.truncated_normal, randomly defines variables for the weights and biases for each layer\n",
    "    mu = 0\n",
    "    sigma = 0.1\n",
    "    \n",
    "    # SOLUTION: Layer 1: Convolutional. Input = 32x32x1. Output = 28x28x6.\n",
    "    conv1_W = tf.Variable(tf.truncated_normal(shape=(5, 5, 3, 6), mean = mu, stddev = sigma))\n",
    "    conv1_b = tf.Variable(tf.zeros(6))\n",
    "    conv1   = tf.nn.conv2d(x, conv1_W, strides=[1, 1, 1, 1], padding='VALID') + conv1_b\n",
    "    #conv1bn, update_ema1 = batchnorm(conv1, tst, iter, convolutional=True)\n",
    "\n",
    "    # SOLUTION: Activation.\n",
    "    conv1 = tf.nn.relu(conv1)\n",
    "\n",
    "    # SOLUTION: Pooling. Input = 28x28x6. Output = 14x14x6.\n",
    "    conv1 = tf.nn.max_pool(conv1, ksize=[1, 2, 2, 1], strides=[1, 2, 2, 1], padding='VALID')\n",
    "\n",
    "    # SOLUTION: Layer 2: Convolutional. Output = 10x10x16.\n",
    "    conv2_W = tf.Variable(tf.truncated_normal(shape=(5, 5, 6, 16), mean = mu, stddev = sigma))\n",
    "    conv2_b = tf.Variable(tf.zeros(16))\n",
    "    conv2   = tf.nn.conv2d(conv1, conv2_W, strides=[1, 1, 1, 1], padding='VALID') + conv2_b\n",
    "    #conv2bn, update_ema2 = batchnorm(conv2, tst, iter, convolutional=True)\n",
    "\n",
    "    \n",
    "    # SOLUTION: Activation.\n",
    "    conv2 = tf.nn.relu(conv2)\n",
    "\n",
    "    # SOLUTION: Pooling. Input = 10x10x16. Output = 5x5x16.\n",
    "    conv2 = tf.nn.max_pool(conv2, ksize=[1, 2, 2, 1], strides=[1, 2, 2, 1], padding='VALID')\n",
    "\n",
    "    # SOLUTION: Flatten. Input = 5x5x16. Output = 400.\n",
    "    fc0   = flatten(conv2)\n",
    "    \n",
    "    # SOLUTION: Layer 3: Fully Connected. Input = 400. Output = 120.\n",
    "    fc1_W = tf.Variable(tf.truncated_normal(shape=(400, 120), mean = mu, stddev = sigma))\n",
    "    fc1_b = tf.Variable(tf.zeros(120))\n",
    "    fc1   = tf.matmul(fc0, fc1_W) + fc1_b\n",
    "    #fc1bn, update_ema3 = batchnorm(fc1, tst, iter)\n",
    "\n",
    "    \n",
    "    # SOLUTION: Activation.\n",
    "    fc1    = tf.nn.relu(fc1)\n",
    "\n",
    "    # SOLUTION: Layer 4: Fully Connected. Input = 120. Output = 84.\n",
    "    fc2_W  = tf.Variable(tf.truncated_normal(shape=(120, 84), mean = mu, stddev = sigma))\n",
    "    fc2_b  = tf.Variable(tf.zeros(84))\n",
    "    fc2    = tf.matmul(fc1, fc2_W) + fc2_b\n",
    "    #fc2bn, update_ema4 = batchnorm(fc2, tst, iter)\n",
    "    \n",
    "    # SOLUTION: Activation.\n",
    "    fc2    = tf.nn.relu(fc2)\n",
    "    fc2d   = tf.nn.dropout(fc2, pkeep)\n",
    "\n",
    "    # SOLUTION: Layer 5: Fully Connected. Input = 84. Output = 10.\n",
    "    fc3_W  = tf.Variable(tf.truncated_normal(shape=(84, 43), mean = mu, stddev = sigma))\n",
    "    fc3_b  = tf.Variable(tf.zeros(43))\n",
    "    logits = tf.matmul(fc2d, fc3_W) + fc3_b\n",
    "    \n",
    "    return logits\n",
    "\n",
    "x = tf.placeholder(tf.float32, (None, 32, 32, 3))\n",
    "y = tf.placeholder(tf.int32, (None))\n",
    "one_hot_y = tf.one_hot(y, 43)\n",
    "rate = 0.001\n",
    "\n",
    "logits = LeNet(x)\n",
    "Y = tf.nn.softmax(logits)\n",
    "cross_entropy = tf.nn.softmax_cross_entropy_with_logits(logits, one_hot_y)\n",
    "loss_operation = tf.reduce_mean(cross_entropy)\n",
    "optimizer = tf.train.AdamOptimizer(learning_rate = rate)\n",
    "training_operation = optimizer.minimize(loss_operation)\n",
    "\n",
    "correct_prediction = tf.equal(tf.argmax(Y, 1), tf.argmax(one_hot_y, 1))\n",
    "accuracy_operation = tf.reduce_mean(tf.cast(correct_prediction, tf.float32))\n",
    "saver = tf.train.Saver()\n",
    "\n",
    "def evaluate(X_data, y_data):\n",
    "    num_examples = len(X_data)\n",
    "    total_accuracy = 0\n",
    "    sess = tf.get_default_session()\n",
    "    for offset in range(0, num_examples, BATCH_SIZE):\n",
    "        batch_x, batch_y = X_data[offset:offset+BATCH_SIZE], y_data[offset:offset+BATCH_SIZE]\n",
    "        accuracy = sess.run(accuracy_operation, feed_dict={x: batch_x, y: batch_y, tst: True, pkeep: 0.75})\n",
    "        total_accuracy += (accuracy * len(batch_x))\n",
    "    return total_accuracy / num_examples\n",
    "\n",
    "with tf.Session() as sess:\n",
    "    sess.run(tf.global_variables_initializer())\n",
    "    num_examples = len(X_train)\n",
    "    \n",
    "    print(\"Training...\")\n",
    "    print()\n",
    "    for i in range(EPOCHS):\n",
    "        X_train, y_train = shuffle(X_train, y_train)\n",
    "        for offset in range(0, num_examples, BATCH_SIZE):\n",
    "            end = offset + BATCH_SIZE\n",
    "            batch_x, batch_y = X_train[offset:end], y_train[offset:end]\n",
    "            sess.run(training_operation, feed_dict={x: batch_x, y: batch_y, tst: True, pkeep: 0.75})\n",
    "            \n",
    "        validation_accuracy = evaluate(X_validation, y_validation)\n",
    "        print(\"EPOCH {} ...\".format(i+1))\n",
    "        print(\"Validation Accuracy = {:.3f}\".format(validation_accuracy))\n",
    "        print()\n",
    "        \n",
    "    saver.save(sess, './lenet')\n",
    "    print(\"Model saved\")"
   ]
  },
  {
   "cell_type": "markdown",
   "metadata": {
    "deletable": true,
    "editable": true
   },
   "source": [
    "### Question 4\n",
    "\n",
    "_How did you train your model? (Type of optimizer, batch size, epochs, hyperparameters, etc.)_\n"
   ]
  },
  {
   "cell_type": "markdown",
   "metadata": {
    "deletable": true,
    "editable": true
   },
   "source": [
    "**Answer:**"
   ]
  },
  {
   "cell_type": "markdown",
   "metadata": {
    "deletable": true,
    "editable": true
   },
   "source": [
    "### Question 5\n",
    "\n",
    "\n",
    "_What approach did you take in coming up with a solution to this problem? It may have been a process of trial and error, in which case, outline the steps you took to get to the final solution and why you chose those steps. Perhaps your solution involved an already well known implementation or architecture. In this case, discuss why you think this is suitable for the current problem._"
   ]
  },
  {
   "cell_type": "markdown",
   "metadata": {
    "deletable": true,
    "editable": true
   },
   "source": [
    "**Answer:**"
   ]
  },
  {
   "cell_type": "markdown",
   "metadata": {
    "deletable": true,
    "editable": true
   },
   "source": [
    "---\n",
    "\n",
    "## Step 3: Test a Model on New Images\n",
    "\n",
    "Take several pictures of traffic signs that you find on the web or around you (at least five), and run them through your classifier on your computer to produce example results. The classifier might not recognize some local signs but it could prove interesting nonetheless.\n",
    "\n",
    "You may find `signnames.csv` useful as it contains mappings from the class id (integer) to the actual sign name."
   ]
  },
  {
   "cell_type": "markdown",
   "metadata": {
    "deletable": true,
    "editable": true
   },
   "source": [
    "### Implementation\n",
    "\n",
    "Use the code cell (or multiple code cells, if necessary) to implement the first step of your project. Once you have completed your implementation and are satisfied with the results, be sure to thoroughly answer the questions that follow."
   ]
  },
  {
   "cell_type": "code",
   "execution_count": 9,
   "metadata": {
    "collapsed": false,
    "deletable": true,
    "editable": true
   },
   "outputs": [
    {
     "name": "stdout",
     "output_type": "stream",
     "text": [
      "Test Accuracy = 0.904\n"
     ]
    }
   ],
   "source": [
    "### Load the images and plot them here.\n",
    "### Feel free to use as many code cells as needed.\n",
    "with tf.Session() as sess:\n",
    "    saver.restore(sess, tf.train.latest_checkpoint('.'))\n",
    "\n",
    "    test_accuracy = evaluate(X_test_normalized, y_test)\n",
    "    print(\"Test Accuracy = {:.3f}\".format(test_accuracy))"
   ]
  },
  {
   "cell_type": "markdown",
   "metadata": {
    "deletable": true,
    "editable": true
   },
   "source": [
    "### Question 6\n",
    "\n",
    "_Choose five candidate images of traffic signs and provide them in the report. Are there any particular qualities of the image(s) that might make classification difficult? It could be helpful to plot the images in the notebook._\n",
    "\n"
   ]
  },
  {
   "cell_type": "markdown",
   "metadata": {
    "deletable": true,
    "editable": true
   },
   "source": [
    "**Answer:**"
   ]
  },
  {
   "cell_type": "code",
   "execution_count": null,
   "metadata": {
    "collapsed": true,
    "deletable": true,
    "editable": true
   },
   "outputs": [],
   "source": [
    "### Run the predictions here.\n",
    "### Feel free to use as many code cells as needed."
   ]
  },
  {
   "cell_type": "markdown",
   "metadata": {
    "deletable": true,
    "editable": true
   },
   "source": [
    "### Question 7\n",
    "\n",
    "_Is your model able to perform equally well on captured pictures when compared to testing on the dataset? The simplest way to do this check the accuracy of the predictions. For example, if the model predicted 1 out of 5 signs correctly, it's 20% accurate._\n",
    "\n",
    "_**NOTE:** You could check the accuracy manually by using `signnames.csv` (same directory). This file has a mapping from the class id (0-42) to the corresponding sign name. So, you could take the class id the model outputs, lookup the name in `signnames.csv` and see if it matches the sign from the image._\n"
   ]
  },
  {
   "cell_type": "markdown",
   "metadata": {
    "deletable": true,
    "editable": true
   },
   "source": [
    "**Answer:**"
   ]
  },
  {
   "cell_type": "code",
   "execution_count": null,
   "metadata": {
    "collapsed": true,
    "deletable": true,
    "editable": true
   },
   "outputs": [],
   "source": [
    "### Visualize the softmax probabilities here.\n",
    "### Feel free to use as many code cells as needed."
   ]
  },
  {
   "cell_type": "markdown",
   "metadata": {
    "deletable": true,
    "editable": true
   },
   "source": [
    "### Question 8\n",
    "\n",
    "*Use the model's softmax probabilities to visualize the **certainty** of its predictions, [`tf.nn.top_k`](https://www.tensorflow.org/versions/r0.12/api_docs/python/nn.html#top_k) could prove helpful here. Which predictions is the model certain of? Uncertain? If the model was incorrect in its initial prediction, does the correct prediction appear in the top k? (k should be 5 at most)*\n",
    "\n",
    "`tf.nn.top_k` will return the values and indices (class ids) of the top k predictions. So if k=3, for each sign, it'll return the 3 largest probabilities (out of a possible 43) and the correspoding class ids.\n",
    "\n",
    "Take this numpy array as an example:\n",
    "\n",
    "```\n",
    "# (5, 6) array\n",
    "a = np.array([[ 0.24879643,  0.07032244,  0.12641572,  0.34763842,  0.07893497,\n",
    "         0.12789202],\n",
    "       [ 0.28086119,  0.27569815,  0.08594638,  0.0178669 ,  0.18063401,\n",
    "         0.15899337],\n",
    "       [ 0.26076848,  0.23664738,  0.08020603,  0.07001922,  0.1134371 ,\n",
    "         0.23892179],\n",
    "       [ 0.11943333,  0.29198961,  0.02605103,  0.26234032,  0.1351348 ,\n",
    "         0.16505091],\n",
    "       [ 0.09561176,  0.34396535,  0.0643941 ,  0.16240774,  0.24206137,\n",
    "         0.09155967]])\n",
    "```\n",
    "\n",
    "Running it through `sess.run(tf.nn.top_k(tf.constant(a), k=3))` produces:\n",
    "\n",
    "```\n",
    "TopKV2(values=array([[ 0.34763842,  0.24879643,  0.12789202],\n",
    "       [ 0.28086119,  0.27569815,  0.18063401],\n",
    "       [ 0.26076848,  0.23892179,  0.23664738],\n",
    "       [ 0.29198961,  0.26234032,  0.16505091],\n",
    "       [ 0.34396535,  0.24206137,  0.16240774]]), indices=array([[3, 0, 5],\n",
    "       [0, 1, 4],\n",
    "       [0, 5, 1],\n",
    "       [1, 3, 5],\n",
    "       [1, 4, 3]], dtype=int32))\n",
    "```\n",
    "\n",
    "Looking just at the first row we get `[ 0.34763842,  0.24879643,  0.12789202]`, you can confirm these are the 3 largest probabilities in `a`. You'll also notice `[3, 0, 5]` are the corresponding indices."
   ]
  },
  {
   "cell_type": "markdown",
   "metadata": {
    "deletable": true,
    "editable": true
   },
   "source": [
    "**Answer:**"
   ]
  },
  {
   "cell_type": "markdown",
   "metadata": {
    "deletable": true,
    "editable": true
   },
   "source": [
    "> **Note**: Once you have completed all of the code implementations and successfully answered each question above, you may finalize your work by exporting the iPython Notebook as an HTML document. You can do this by using the menu above and navigating to  \\n\",\n",
    "    \"**File -> Download as -> HTML (.html)**. Include the finished document along with this notebook as your submission."
   ]
  },
  {
   "cell_type": "code",
   "execution_count": null,
   "metadata": {
    "collapsed": true,
    "deletable": true,
    "editable": true
   },
   "outputs": [],
   "source": []
  }
 ],
 "metadata": {
  "anaconda-cloud": {},
  "kernelspec": {
   "display_name": "Python 3",
   "language": "python",
   "name": "python3"
  },
  "language_info": {
   "codemirror_mode": {
    "name": "ipython",
    "version": 3
   },
   "file_extension": ".py",
   "mimetype": "text/x-python",
   "name": "python",
   "nbconvert_exporter": "python",
   "pygments_lexer": "ipython3",
   "version": "3.5.2"
  },
  "widgets": {
   "state": {},
   "version": "1.1.2"
  }
 },
 "nbformat": 4,
 "nbformat_minor": 1
}
